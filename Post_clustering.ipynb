{
 "cells": [
  {
   "cell_type": "code",
   "execution_count": 1,
   "metadata": {},
   "outputs": [],
   "source": [
    "# 모듈 호출\n",
    "import pandas as pd\n",
    "import matplotlib.pyplot as plt\n",
    "import seaborn as sns\n",
    "import matplotlib.font_manager as fm\n",
    "import numpy as np\n",
    "import random as rd"
   ]
  },
  {
   "cell_type": "code",
   "execution_count": 2,
   "metadata": {},
   "outputs": [
    {
     "data": {
      "text/html": [
       "<div>\n",
       "<style scoped>\n",
       "    .dataframe tbody tr th:only-of-type {\n",
       "        vertical-align: middle;\n",
       "    }\n",
       "\n",
       "    .dataframe tbody tr th {\n",
       "        vertical-align: top;\n",
       "    }\n",
       "\n",
       "    .dataframe thead th {\n",
       "        text-align: right;\n",
       "    }\n",
       "</style>\n",
       "<table border=\"1\" class=\"dataframe\">\n",
       "  <thead>\n",
       "    <tr style=\"text-align: right;\">\n",
       "      <th></th>\n",
       "      <th>Post</th>\n",
       "      <th>X</th>\n",
       "      <th>Y</th>\n",
       "    </tr>\n",
       "  </thead>\n",
       "  <tbody>\n",
       "    <tr>\n",
       "      <th>0</th>\n",
       "      <td>서울중앙</td>\n",
       "      <td>183.988196</td>\n",
       "      <td>0</td>\n",
       "    </tr>\n",
       "    <tr>\n",
       "      <th>1</th>\n",
       "      <td>광화문</td>\n",
       "      <td>186.721916</td>\n",
       "      <td>0</td>\n",
       "    </tr>\n",
       "    <tr>\n",
       "      <th>2</th>\n",
       "      <td>서대문</td>\n",
       "      <td>185.824437</td>\n",
       "      <td>0</td>\n",
       "    </tr>\n",
       "    <tr>\n",
       "      <th>3</th>\n",
       "      <td>동대문</td>\n",
       "      <td>166.631332</td>\n",
       "      <td>0</td>\n",
       "    </tr>\n",
       "    <tr>\n",
       "      <th>4</th>\n",
       "      <td>서울광진</td>\n",
       "      <td>181.858226</td>\n",
       "      <td>0</td>\n",
       "    </tr>\n",
       "  </tbody>\n",
       "</table>\n",
       "</div>"
      ],
      "text/plain": [
       "   Post           X  Y\n",
       "0  서울중앙  183.988196  0\n",
       "1   광화문  186.721916  0\n",
       "2   서대문  185.824437  0\n",
       "3   동대문  166.631332  0\n",
       "4  서울광진  181.858226  0"
      ]
     },
     "execution_count": 2,
     "metadata": {},
     "output_type": "execute_result"
    }
   ],
   "source": [
    "df = pd.read_csv('sd.csv',sep='\\t')\n",
    "df.head()"
   ]
  },
  {
   "cell_type": "code",
   "execution_count": 3,
   "metadata": {},
   "outputs": [],
   "source": [
    "X = df.iloc[:, [1, 2]].values # shape\n",
    "m=X.shape[0] # X\n",
    "n=X.shape[1] # Y"
   ]
  },
  {
   "cell_type": "code",
   "execution_count": 4,
   "metadata": {},
   "outputs": [
    {
     "data": {
      "text/plain": [
       "[('KoPubBatang', 'C:\\\\WINDOWS\\\\Fonts\\\\KoPub Batang Light.ttf'),\n",
       " ('KoPubWorldDotum', 'C:\\\\Windows\\\\Fonts\\\\KoPubWorld Dotum Bold.ttf'),\n",
       " ('KoPubBatang', 'C:\\\\WINDOWS\\\\Fonts\\\\KoPub Batang Medium.ttf'),\n",
       " ('KoPubWorldBatang', 'C:\\\\Windows\\\\Fonts\\\\KoPubWorld Batang Medium.ttf'),\n",
       " ('KoPubBatang', 'C:\\\\WINDOWS\\\\Fonts\\\\KoPub Batang Bold.ttf'),\n",
       " ('KoPubDotum', 'C:\\\\Windows\\\\Fonts\\\\KoPub Dotum Light.ttf'),\n",
       " ('KoPubWorldBatang', 'C:\\\\WINDOWS\\\\Fonts\\\\KoPubWorld Batang Bold.ttf'),\n",
       " ('KoPubWorldBatang', 'C:\\\\Windows\\\\Fonts\\\\KoPubWorld Batang Bold.ttf'),\n",
       " ('KoPubDotum', 'C:\\\\WINDOWS\\\\Fonts\\\\KoPub Dotum Light.ttf'),\n",
       " ('KoPubWorldBatang', 'C:\\\\WINDOWS\\\\Fonts\\\\KoPubWorld Batang Light.ttf'),\n",
       " ('KoPubWorldDotum', 'C:\\\\WINDOWS\\\\Fonts\\\\KoPubWorld Dotum Medium.ttf'),\n",
       " ('KoPubWorldDotum', 'C:\\\\WINDOWS\\\\Fonts\\\\KoPubWorld Dotum Light.ttf'),\n",
       " ('KoPubDotum', 'C:\\\\Windows\\\\Fonts\\\\KoPub Dotum Bold.ttf'),\n",
       " ('KoPubDotum', 'C:\\\\Windows\\\\Fonts\\\\KoPub Dotum Medium.ttf'),\n",
       " ('KoPubDotum', 'C:\\\\WINDOWS\\\\Fonts\\\\KoPub Dotum Bold.ttf'),\n",
       " ('KoPubBatang', 'C:\\\\Windows\\\\Fonts\\\\KoPub Batang Bold.ttf'),\n",
       " ('KoPubBatang', 'C:\\\\Windows\\\\Fonts\\\\KoPub Batang Light.ttf'),\n",
       " ('KoPubWorldDotum', 'C:\\\\Windows\\\\Fonts\\\\KoPubWorld Dotum Medium.ttf'),\n",
       " ('KoPubWorldDotum', 'C:\\\\WINDOWS\\\\Fonts\\\\KoPubWorld Dotum Bold.ttf'),\n",
       " ('KoPubWorldBatang', 'C:\\\\WINDOWS\\\\Fonts\\\\KoPubWorld Batang Medium.ttf'),\n",
       " ('KoPubDotum', 'C:\\\\WINDOWS\\\\Fonts\\\\KoPub Dotum Medium.ttf'),\n",
       " ('KoPubBatang', 'C:\\\\Windows\\\\Fonts\\\\KoPub Batang Medium.ttf'),\n",
       " ('KoPubWorldBatang', 'C:\\\\Windows\\\\Fonts\\\\KoPubWorld Batang Light.ttf'),\n",
       " ('KoPubWorldDotum', 'C:\\\\Windows\\\\Fonts\\\\KoPubWorld Dotum Light.ttf')]"
      ]
     },
     "execution_count": 4,
     "metadata": {},
     "output_type": "execute_result"
    }
   ],
   "source": [
    "fm._rebuild()\n",
    "[(f.name, f.fname) for f in fm.fontManager.ttflist if 'KoPub' in f.name] # 폰트 검색"
   ]
  },
  {
   "cell_type": "code",
   "execution_count": 5,
   "metadata": {},
   "outputs": [],
   "source": [
    "sns.set(style='whitegrid', font='KoPubDotum', font_scale=1.2) # Seaborn 설정"
   ]
  },
  {
   "cell_type": "code",
   "execution_count": 40,
   "metadata": {},
   "outputs": [],
   "source": [
    "from sklearn.cluster import KMeans\n",
    "model = KMeans(n_clusters=40, init=\"random\", n_init=1, max_iter=1000, random_state=1).fit(X)"
   ]
  },
  {
   "cell_type": "code",
   "execution_count": 41,
   "metadata": {},
   "outputs": [
    {
     "data": {
      "text/plain": [
       "array([15, 27, 15, 32, 15, 27, 27, 36, 27, 27, 15, 15, 27, 15, 27, 27, 27,\n",
       "       15,  5, 34, 17,  5, 30,  0, 12,  1, 34, 25,  5, 12, 34, 32, 29, 39,\n",
       "       31, 30, 15, 25, 15, 15,  5, 15, 15,  5, 15, 30,  0, 15, 36, 15,  1,\n",
       "       12, 32, 12,  6, 23, 37, 37, 12, 29, 37, 15, 25,  6,  0,  1, 12, 39,\n",
       "       18, 12, 39,  7, 35,  6, 33,  7,  0,  4,  9,  7, 16, 13,  9, 33, 16,\n",
       "        9, 31,  2, 33, 23,  8, 18,  1,  9,  8, 28, 23, 32, 34, 32, 25, 12,\n",
       "        6,  6, 17, 25, 23, 17, 23, 17,  1,  1,  1,  0,  6,  6, 37, 36, 37,\n",
       "       37,  0, 29,  6, 21, 23,  0,  0,  1, 31,  1, 39, 31,  1,  1, 31, 24,\n",
       "       38,  4, 38, 35,  8, 35, 24,  4,  2, 20,  4, 28, 20, 38,  1,  4,  3,\n",
       "        9, 29,  9, 18, 11, 19, 10, 24,  0,  6, 23,  1, 30, 23,  6, 23,  8,\n",
       "       28, 23,  0, 39, 16,  2,  8,  1, 28,  6, 23, 16,  0, 38, 28, 29, 19,\n",
       "        6, 33, 39,  4,  8,  2, 35, 26, 16,  2, 11, 18,  3, 24,  9,  1,  4,\n",
       "       16, 21, 28,  9, 19, 19, 29, 18, 26,  9, 11, 26, 10, 21, 39, 24, 16,\n",
       "       31,  4, 10,  2, 33, 16,  9,  4, 14, 26, 25, 23, 17, 12, 23, 26,  0,\n",
       "       37, 14, 24, 11,  2, 24, 26, 16, 18, 28,  6, 37, 24, 18, 35,  9, 20,\n",
       "       38, 39,  3, 13, 10, 20, 18, 35,  9,  2, 10, 18, 13,  4,  3, 20,  4,\n",
       "       26, 28, 28, 26, 35, 12, 25,  6, 25,  6, 30, 32, 36,  1,  9, 24, 39,\n",
       "        3, 39,  2,  2, 33, 39, 39, 14, 16,  1, 20, 33,  1,  7,  9,  7, 24,\n",
       "       20, 19, 23,  8, 10, 16, 13, 28, 24, 39, 19, 20, 29,  9,  2,  9,  3,\n",
       "        7, 28, 26, 21, 19,  4, 20, 26,  9, 19, 11, 10, 26, 10, 20,  9,  4,\n",
       "        6,  0,  6, 13, 33,  6, 38,  4, 29, 28, 14,  7, 20, 16, 24,  3, 39,\n",
       "       24, 24,  4, 38,  2, 20, 18, 24, 28, 20, 18,  3, 14, 20, 28,  0,  0,\n",
       "       33,  7,  4,  1,  6, 14, 29, 24, 38,  4,  2, 26, 22, 10, 10,  9, 14,\n",
       "        9,  3, 31,  2,  2, 29, 37, 13, 18, 28, 35, 16, 26, 38, 38, 28,  3,\n",
       "       14,  3, 33, 39, 37, 29,  4,  2,  6])"
      ]
     },
     "execution_count": 41,
     "metadata": {},
     "output_type": "execute_result"
    }
   ],
   "source": [
    "model.labels_"
   ]
  },
  {
   "cell_type": "code",
   "execution_count": 8,
   "metadata": {},
   "outputs": [],
   "source": [
    "df2=pd.DataFrame(model.labels_)"
   ]
  },
  {
   "cell_type": "code",
   "execution_count": 9,
   "metadata": {},
   "outputs": [],
   "source": [
    "df2.to_csv(\"sd_res_40.csv\",index=False,header=False)"
   ]
  },
  {
   "cell_type": "code",
   "execution_count": 12,
   "metadata": {},
   "outputs": [
    {
     "data": {
      "image/png": "[encoded data removed]",
      "text/plain": [
       "<Figure size 432x288 with 1 Axes>"
      ]
     },
     "metadata": {},
     "output_type": "display_data"
    }
   ],
   "source": [
    "sse = []\n",
    "for i in range(1,10):\n",
    "    model = KMeans(n_clusters=i, init=\"k-means++\", n_init=1, max_iter=1000, random_state=1).fit(X)\n",
    "    sse.append(model.inertia_)\n",
    "plt.plot(range(1,10), sse, marker='o')\n",
    "plt.xlabel('n_cluster')\n",
    "plt.ylabel('SSE')\n",
    "plt.show()\n",
    "    "
   ]
  },
  {
   "cell_type": "code",
   "execution_count": 13,
   "metadata": {},
   "outputs": [],
   "source": [
    "from sklearn.metrics import pairwise_distances\n",
    "dist_out = 1-pairwise_distances(X)"
   ]
  },
  {
   "cell_type": "code",
   "execution_count": 36,
   "metadata": {},
   "outputs": [
    {
     "name": "stderr",
     "output_type": "stream",
     "text": [
      "C:\\ProgramData\\Anaconda3\\lib\\site-packages\\sklearn\\cluster\\_affinity_propagation.py:146: FutureWarning: 'random_state' has been introduced in 0.23. It will be set to None starting from 0.25 which means that results will differ at every function call. Set 'random_state' to None to silence this warning, or to 0 to keep the behavior of versions <0.23.\n",
      "  warnings.warn((\"'random_state' has been introduced in 0.23. \"\n"
     ]
    }
   ],
   "source": [
    "from sklearn.cluster import AffinityPropagation\n",
    "af = AffinityPropagation(preference=-100000).fit(dist_out)\n",
    "cluster_centers_indices = af.cluster_centers_indices_\n",
    "labels = af.labels_\n",
    "n_clusters_ = len(cluster_centers_indices)"
   ]
  },
  {
   "cell_type": "code",
   "execution_count": 42,
   "metadata": {},
   "outputs": [
    {
     "data": {
      "text/plain": [
       "22"
      ]
     },
     "execution_count": 42,
     "metadata": {},
     "output_type": "execute_result"
    }
   ],
   "source": [
    "n_clusters_"
   ]
  },
  {
   "cell_type": "code",
   "execution_count": 38,
   "metadata": {},
   "outputs": [
    {
     "data": {
      "text/plain": [
       "array([ 1,  1,  1,  3,  1,  0,  0,  3,  0,  0,  1,  1,  0,  1,  0,  0,  0,\n",
       "        2,  2,  3,  3,  2,  4,  9,  4, 17,  3,  4,  2,  4,  2,  3,  7, 15,\n",
       "        7,  4,  1,  6,  1,  2,  2,  1,  1,  2,  1,  4,  9,  2,  3,  1, 17,\n",
       "        4,  3,  4,  5,  6, 15, 17,  4,  7, 17,  2,  4,  5,  9,  9,  4, 15,\n",
       "       18,  4, 15, 10, 20,  5, 10, 10,  9,  8, 11, 10, 20, 21, 12, 10, 12,\n",
       "       12,  7,  8, 10,  6, 15, 18, 17, 11,  7, 14,  6,  3,  2,  3,  4,  4,\n",
       "        5,  5,  3,  4,  6,  3,  6,  3, 17, 17, 17,  9,  5,  5, 17,  3, 15,\n",
       "       15,  9,  7,  5, 18,  6,  9,  5, 17,  7,  9, 15,  7,  9, 17,  7, 14,\n",
       "       21,  8, 21, 20, 15, 20, 14,  8, 11, 16,  8, 16, 16, 21,  9,  8, 21,\n",
       "       12,  7, 11, 18, 21, 13, 19, 14,  9,  5,  6,  9,  4,  6,  5,  6,  7,\n",
       "       14,  6,  9, 15, 20, 11,  7,  9, 14,  5,  6, 20,  9, 21, 16,  7, 13,\n",
       "        5, 10, 15,  8, 15, 11, 20, 18, 12, 11,  8, 18, 21, 14, 12, 17,  8,\n",
       "       12, 18, 14, 11, 13, 13,  7, 18, 18, 12, 21, 18, 19, 18, 15, 14, 20,\n",
       "        7,  8, 19, 11, 10, 12, 11,  8, 13, 18,  4,  6,  3,  4,  6, 18,  9,\n",
       "       17, 13, 14, 21, 11, 14, 18, 12, 18, 16,  5, 17, 14, 18, 20, 11, 16,\n",
       "       21, 15, 21, 21, 19, 16, 18, 20, 12, 11, 19, 18, 21,  8, 21, 16,  8,\n",
       "       18, 16, 16, 18, 20,  4,  4,  5,  6,  5,  4,  3,  3,  9, 12, 14, 15,\n",
       "       21, 15, 11, 11, 10, 15, 15, 13, 12,  9, 16, 10, 17, 10, 11, 10, 14,\n",
       "       16, 13,  6,  7, 19, 12, 21, 14, 14, 15, 13, 16,  7, 12, 11, 12, 21,\n",
       "       10, 14, 18, 18, 13,  8, 16, 18, 12, 13,  8, 19, 18, 19, 16, 11,  8,\n",
       "        5,  9,  5, 18, 10,  5, 21,  8,  7, 16, 13, 10, 16, 20, 14, 21, 15,\n",
       "       14, 14,  8, 21, 11, 16, 18, 14, 16, 16, 18, 21, 13, 16, 14,  9,  9,\n",
       "       10, 10,  8, 17,  5, 13,  7, 14, 21,  8, 11, 18, 19, 19, 19, 11, 13,\n",
       "       12, 21,  7, 11, 11,  7, 15, 18, 18, 16, 20, 12, 18, 21, 21, 16, 21,\n",
       "       13, 21, 10, 15, 17, 10,  8, 11,  5], dtype=int64)"
      ]
     },
     "execution_count": 38,
     "metadata": {},
     "output_type": "execute_result"
    }
   ],
   "source": [
    "labels"
   ]
  },
  {
   "cell_type": "code",
   "execution_count": null,
   "metadata": {},
   "outputs": [],
   "source": []
  }
 ],
 "metadata": {
  "kernelspec": {
   "display_name": "Python 3",
   "language": "python",
   "name": "python3"
  },
  "language_info": {
   "codemirror_mode": {
    "name": "ipython",
    "version": 3
   },
   "file_extension": ".py",
   "mimetype": "text/x-python",
   "name": "python",
   "nbconvert_exporter": "python",
   "pygments_lexer": "ipython3",
   "version": "3.8.3"
  }
 },
 "nbformat": 4,
 "nbformat_minor": 4
}
